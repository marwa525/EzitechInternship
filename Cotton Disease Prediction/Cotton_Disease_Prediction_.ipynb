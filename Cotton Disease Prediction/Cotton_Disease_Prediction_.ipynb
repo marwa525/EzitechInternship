{
  "cells": [
    {
      "cell_type": "code",
      "execution_count": 1,
      "metadata": {
        "_cell_guid": "b1076dfc-b9ad-4769-8c92-a6c4dae69d19",
        "_uuid": "8f2839f25d086af736a60e9eeb907d3b93b6e0e5",
        "execution": {
          "iopub.execute_input": "2021-01-06T14:56:36.924658Z",
          "iopub.status.busy": "2021-01-06T14:56:36.923922Z",
          "iopub.status.idle": "2021-01-06T14:56:42.793278Z",
          "shell.execute_reply": "2021-01-06T14:56:42.791734Z"
        },
        "papermill": {
          "duration": 5.909112,
          "end_time": "2021-01-06T14:56:42.793410",
          "exception": false,
          "start_time": "2021-01-06T14:56:36.884298",
          "status": "completed"
        },
        "tags": [],
        "id": "bvFDdq8eGFX0"
      },
      "outputs": [],
      "source": [
        "from tensorflow.keras.layers import Input, Lambda, Dense, Flatten\n",
        "from tensorflow.keras.models import Model\n",
        "from tensorflow.keras.applications.vgg16 import VGG16\n",
        "from tensorflow.keras.applications.vgg16 import preprocess_input\n",
        "from tensorflow.keras.preprocessing import image\n",
        "from tensorflow.keras.preprocessing.image import ImageDataGenerator,load_img\n",
        "from tensorflow.keras.models import Sequential\n",
        "import numpy as np\n",
        "from glob import glob\n"
      ]
    },
    {
      "cell_type": "code",
      "execution_count": 2,
      "metadata": {
        "_cell_guid": "79c7e3d0-c299-4dcb-8224-4455121ee9b0",
        "_uuid": "d629ff2d2480ee46fbb7e2d37f6b5fab8052498a",
        "execution": {
          "iopub.execute_input": "2021-01-06T14:56:42.935078Z",
          "iopub.status.busy": "2021-01-06T14:56:42.934423Z",
          "iopub.status.idle": "2021-01-06T14:56:42.937708Z",
          "shell.execute_reply": "2021-01-06T14:56:42.937042Z"
        },
        "papermill": {
          "duration": 0.044339,
          "end_time": "2021-01-06T14:56:42.937819",
          "exception": false,
          "start_time": "2021-01-06T14:56:42.893480",
          "status": "completed"
        },
        "tags": [],
        "id": "5tbfQMRPGFX2"
      },
      "outputs": [],
      "source": [
        "# re-size all the images to this\n",
        "IMAGE_SIZE = [224, 224]\n",
        "\n",
        "train_path = '../input/cotton-disease-dataset/Cotton Disease/train'\n",
        "valid_path = '../input/cotton-disease-dataset/Cotton Disease/test'"
      ]
    },
    {
      "cell_type": "code",
      "execution_count": 3,
      "metadata": {
        "execution": {
          "iopub.execute_input": "2021-01-06T14:56:43.078497Z",
          "iopub.status.busy": "2021-01-06T14:56:43.077743Z",
          "iopub.status.idle": "2021-01-06T14:56:45.279897Z",
          "shell.execute_reply": "2021-01-06T14:56:45.280429Z"
        },
        "papermill": {
          "duration": 2.243101,
          "end_time": "2021-01-06T14:56:45.280598",
          "exception": false,
          "start_time": "2021-01-06T14:56:43.037497",
          "status": "completed"
        },
        "tags": [],
        "colab": {
          "base_uri": "https://localhost:8080/"
        },
        "id": "7L96lhX2GFX3",
        "outputId": "22d57cdb-4144-4413-ede3-31fc683152e7"
      },
      "outputs": [
        {
          "output_type": "stream",
          "name": "stdout",
          "text": [
            "Downloading data from https://storage.googleapis.com/tensorflow/keras-applications/vgg16/vgg16_weights_tf_dim_ordering_tf_kernels_notop.h5\n",
            "58889256/58889256 [==============================] - 0s 0us/step\n"
          ]
        }
      ],
      "source": [
        "# Import the Vgg 16 library as shown below and add preprocessing layer to the front of VGG\n",
        "# Here we will be using imagenet weights\n",
        "\n",
        "vgg16 = VGG16(input_shape=IMAGE_SIZE + [3], weights='imagenet', include_top=False)\n",
        "\n"
      ]
    },
    {
      "cell_type": "code",
      "execution_count": 4,
      "metadata": {
        "execution": {
          "iopub.execute_input": "2021-01-06T14:56:45.358326Z",
          "iopub.status.busy": "2021-01-06T14:56:45.357717Z",
          "iopub.status.idle": "2021-01-06T14:56:45.363784Z",
          "shell.execute_reply": "2021-01-06T14:56:45.364258Z"
        },
        "papermill": {
          "duration": 0.046027,
          "end_time": "2021-01-06T14:56:45.364392",
          "exception": false,
          "start_time": "2021-01-06T14:56:45.318365",
          "status": "completed"
        },
        "tags": [],
        "id": "cKoxS7i_GFX4"
      },
      "outputs": [],
      "source": [
        "# don't train existing weights\n",
        "for layer in vgg16.layers:\n",
        "    layer.trainable = False"
      ]
    },
    {
      "cell_type": "code",
      "execution_count": 5,
      "metadata": {
        "execution": {
          "iopub.execute_input": "2021-01-06T14:56:45.441802Z",
          "iopub.status.busy": "2021-01-06T14:56:45.441075Z",
          "iopub.status.idle": "2021-01-06T14:56:45.447687Z",
          "shell.execute_reply": "2021-01-06T14:56:45.447053Z"
        },
        "papermill": {
          "duration": 0.046183,
          "end_time": "2021-01-06T14:56:45.447808",
          "exception": false,
          "start_time": "2021-01-06T14:56:45.401625",
          "status": "completed"
        },
        "tags": [],
        "id": "YOPBtkAkGFX4"
      },
      "outputs": [],
      "source": [
        "# useful for getting number of output classes\n",
        "folders = glob('../input/cotton-disease-dataset/Cotton Disease/train/*')"
      ]
    },
    {
      "cell_type": "code",
      "execution_count": 6,
      "metadata": {
        "execution": {
          "iopub.execute_input": "2021-01-06T14:56:45.525409Z",
          "iopub.status.busy": "2021-01-06T14:56:45.524459Z",
          "iopub.status.idle": "2021-01-06T14:56:45.532366Z",
          "shell.execute_reply": "2021-01-06T14:56:45.532810Z"
        },
        "papermill": {
          "duration": 0.048255,
          "end_time": "2021-01-06T14:56:45.532957",
          "exception": false,
          "start_time": "2021-01-06T14:56:45.484702",
          "status": "completed"
        },
        "tags": [],
        "id": "7xwuOmN1GFX5"
      },
      "outputs": [],
      "source": [
        "# our layers - you can add more if you want\n",
        "x = Flatten()(vgg16.output)"
      ]
    },
    {
      "cell_type": "code",
      "execution_count": 7,
      "metadata": {
        "execution": {
          "iopub.execute_input": "2021-01-06T14:56:45.610924Z",
          "iopub.status.busy": "2021-01-06T14:56:45.609942Z",
          "iopub.status.idle": "2021-01-06T14:56:45.628512Z",
          "shell.execute_reply": "2021-01-06T14:56:45.628988Z"
        },
        "papermill": {
          "duration": 0.059337,
          "end_time": "2021-01-06T14:56:45.629163",
          "exception": false,
          "start_time": "2021-01-06T14:56:45.569826",
          "status": "completed"
        },
        "tags": [],
        "id": "4g3J4J0zGFX5"
      },
      "outputs": [],
      "source": [
        "prediction = Dense(len(folders), activation='softmax')(x)\n",
        "\n",
        "# create a model object\n",
        "model = Model(inputs=vgg16.input, outputs=prediction)"
      ]
    },
    {
      "cell_type": "code",
      "execution_count": 8,
      "metadata": {
        "execution": {
          "iopub.execute_input": "2021-01-06T14:56:45.780793Z",
          "iopub.status.busy": "2021-01-06T14:56:45.779763Z",
          "iopub.status.idle": "2021-01-06T14:56:45.793228Z",
          "shell.execute_reply": "2021-01-06T14:56:45.793945Z"
        },
        "papermill": {
          "duration": 0.053947,
          "end_time": "2021-01-06T14:56:45.794159",
          "exception": false,
          "start_time": "2021-01-06T14:56:45.740212",
          "status": "completed"
        },
        "tags": [],
        "colab": {
          "base_uri": "https://localhost:8080/"
        },
        "id": "zYhDi0sBGFX6",
        "outputId": "35e84087-f2e7-4d4f-9dbf-1f3ddcfc88b1"
      },
      "outputs": [
        {
          "output_type": "stream",
          "name": "stdout",
          "text": [
            "Model: \"model\"\n",
            "_________________________________________________________________\n",
            " Layer (type)                Output Shape              Param #   \n",
            "=================================================================\n",
            " input_1 (InputLayer)        [(None, 224, 224, 3)]     0         \n",
            "                                                                 \n",
            " block1_conv1 (Conv2D)       (None, 224, 224, 64)      1792      \n",
            "                                                                 \n",
            " block1_conv2 (Conv2D)       (None, 224, 224, 64)      36928     \n",
            "                                                                 \n",
            " block1_pool (MaxPooling2D)  (None, 112, 112, 64)      0         \n",
            "                                                                 \n",
            " block2_conv1 (Conv2D)       (None, 112, 112, 128)     73856     \n",
            "                                                                 \n",
            " block2_conv2 (Conv2D)       (None, 112, 112, 128)     147584    \n",
            "                                                                 \n",
            " block2_pool (MaxPooling2D)  (None, 56, 56, 128)       0         \n",
            "                                                                 \n",
            " block3_conv1 (Conv2D)       (None, 56, 56, 256)       295168    \n",
            "                                                                 \n",
            " block3_conv2 (Conv2D)       (None, 56, 56, 256)       590080    \n",
            "                                                                 \n",
            " block3_conv3 (Conv2D)       (None, 56, 56, 256)       590080    \n",
            "                                                                 \n",
            " block3_pool (MaxPooling2D)  (None, 28, 28, 256)       0         \n",
            "                                                                 \n",
            " block4_conv1 (Conv2D)       (None, 28, 28, 512)       1180160   \n",
            "                                                                 \n",
            " block4_conv2 (Conv2D)       (None, 28, 28, 512)       2359808   \n",
            "                                                                 \n",
            " block4_conv3 (Conv2D)       (None, 28, 28, 512)       2359808   \n",
            "                                                                 \n",
            " block4_pool (MaxPooling2D)  (None, 14, 14, 512)       0         \n",
            "                                                                 \n",
            " block5_conv1 (Conv2D)       (None, 14, 14, 512)       2359808   \n",
            "                                                                 \n",
            " block5_conv2 (Conv2D)       (None, 14, 14, 512)       2359808   \n",
            "                                                                 \n",
            " block5_conv3 (Conv2D)       (None, 14, 14, 512)       2359808   \n",
            "                                                                 \n",
            " block5_pool (MaxPooling2D)  (None, 7, 7, 512)         0         \n",
            "                                                                 \n",
            " flatten (Flatten)           (None, 25088)             0         \n",
            "                                                                 \n",
            " dense (Dense)               (None, 0)                 0         \n",
            "                                                                 \n",
            "=================================================================\n",
            "Total params: 14714688 (56.13 MB)\n",
            "Trainable params: 0 (0.00 Byte)\n",
            "Non-trainable params: 14714688 (56.13 MB)\n",
            "_________________________________________________________________\n"
          ]
        }
      ],
      "source": [
        "# view the structure of the model\n",
        "model.summary()"
      ]
    },
    {
      "cell_type": "code",
      "execution_count": 9,
      "metadata": {
        "execution": {
          "iopub.execute_input": "2021-01-06T14:56:45.882783Z",
          "iopub.status.busy": "2021-01-06T14:56:45.881726Z",
          "iopub.status.idle": "2021-01-06T14:56:45.887256Z",
          "shell.execute_reply": "2021-01-06T14:56:45.887716Z"
        },
        "papermill": {
          "duration": 0.055601,
          "end_time": "2021-01-06T14:56:45.887857",
          "exception": false,
          "start_time": "2021-01-06T14:56:45.832256",
          "status": "completed"
        },
        "tags": [],
        "id": "OmkILdHiGFX6"
      },
      "outputs": [],
      "source": [
        "# tell the model what cost and optimization method to use\n",
        "model.compile(\n",
        "  loss='categorical_crossentropy',\n",
        "  optimizer='adam',\n",
        "  metrics=['accuracy']\n",
        ")"
      ]
    },
    {
      "cell_type": "code",
      "execution_count": 10,
      "metadata": {
        "execution": {
          "iopub.execute_input": "2021-01-06T14:56:46.046056Z",
          "iopub.status.busy": "2021-01-06T14:56:46.044947Z",
          "iopub.status.idle": "2021-01-06T14:56:46.048244Z",
          "shell.execute_reply": "2021-01-06T14:56:46.047487Z"
        },
        "papermill": {
          "duration": 0.04722,
          "end_time": "2021-01-06T14:56:46.048357",
          "exception": false,
          "start_time": "2021-01-06T14:56:46.001137",
          "status": "completed"
        },
        "tags": [],
        "id": "QqcT59gxGFX7"
      },
      "outputs": [],
      "source": [
        "# Use the Image Data Generator to import the images from the dataset\n",
        "from tensorflow.keras.preprocessing.image import ImageDataGenerator\n",
        "\n",
        "train_datagen = ImageDataGenerator(rescale = 1./255,\n",
        "                                   shear_range = 0.2,\n",
        "                                   zoom_range = 0.2,\n",
        "                                   horizontal_flip = True)\n",
        "\n",
        "test_datagen = ImageDataGenerator(rescale = 1./255)"
      ]
    },
    {
      "cell_type": "code",
      "execution_count": 11,
      "metadata": {
        "execution": {
          "iopub.execute_input": "2021-01-06T14:56:46.130832Z",
          "iopub.status.busy": "2021-01-06T14:56:46.129825Z",
          "iopub.status.idle": "2021-01-06T14:56:46.441358Z",
          "shell.execute_reply": "2021-01-06T14:56:46.440745Z"
        },
        "papermill": {
          "duration": 0.35456,
          "end_time": "2021-01-06T14:56:46.441476",
          "exception": false,
          "start_time": "2021-01-06T14:56:46.086916",
          "status": "completed"
        },
        "tags": [],
        "colab": {
          "base_uri": "https://localhost:8080/",
          "height": 373
        },
        "id": "8DEFI0o9GFX7",
        "outputId": "d3ad4d96-531c-4628-b224-52b90f516950"
      },
      "outputs": [
        {
          "output_type": "error",
          "ename": "FileNotFoundError",
          "evalue": "[Errno 2] No such file or directory: '../input/cotton-disease-dataset/Cotton Disease/train'",
          "traceback": [
            "\u001b[0;31m---------------------------------------------------------------------------\u001b[0m",
            "\u001b[0;31mFileNotFoundError\u001b[0m                         Traceback (most recent call last)",
            "\u001b[0;32m<ipython-input-11-092c3152782f>\u001b[0m in \u001b[0;36m<cell line: 2>\u001b[0;34m()\u001b[0m\n\u001b[1;32m      1\u001b[0m \u001b[0;31m# Make sure you provide the same target size as initialied for the image size\u001b[0m\u001b[0;34m\u001b[0m\u001b[0;34m\u001b[0m\u001b[0m\n\u001b[0;32m----> 2\u001b[0;31m training_set = train_datagen.flow_from_directory('../input/cotton-disease-dataset/Cotton Disease/train',\n\u001b[0m\u001b[1;32m      3\u001b[0m                                                  \u001b[0mtarget_size\u001b[0m \u001b[0;34m=\u001b[0m \u001b[0;34m(\u001b[0m\u001b[0;36m224\u001b[0m\u001b[0;34m,\u001b[0m \u001b[0;36m224\u001b[0m\u001b[0;34m)\u001b[0m\u001b[0;34m,\u001b[0m\u001b[0;34m\u001b[0m\u001b[0;34m\u001b[0m\u001b[0m\n\u001b[1;32m      4\u001b[0m                                                  \u001b[0mbatch_size\u001b[0m \u001b[0;34m=\u001b[0m \u001b[0;36m32\u001b[0m\u001b[0;34m,\u001b[0m\u001b[0;34m\u001b[0m\u001b[0;34m\u001b[0m\u001b[0m\n\u001b[1;32m      5\u001b[0m                                                  class_mode = 'categorical')\n",
            "\u001b[0;32m/usr/local/lib/python3.10/dist-packages/keras/src/preprocessing/image.py\u001b[0m in \u001b[0;36mflow_from_directory\u001b[0;34m(self, directory, target_size, color_mode, classes, class_mode, batch_size, shuffle, seed, save_to_dir, save_prefix, save_format, follow_links, subset, interpolation, keep_aspect_ratio)\u001b[0m\n\u001b[1;32m   1647\u001b[0m             \u001b[0;32mand\u001b[0m\u001b[0;31m \u001b[0m\u001b[0;31m`\u001b[0m\u001b[0my\u001b[0m\u001b[0;31m`\u001b[0m \u001b[0;32mis\u001b[0m \u001b[0ma\u001b[0m \u001b[0mnumpy\u001b[0m \u001b[0marray\u001b[0m \u001b[0mof\u001b[0m \u001b[0mcorresponding\u001b[0m \u001b[0mlabels\u001b[0m\u001b[0;34m.\u001b[0m\u001b[0;34m\u001b[0m\u001b[0;34m\u001b[0m\u001b[0m\n\u001b[1;32m   1648\u001b[0m         \"\"\"\n\u001b[0;32m-> 1649\u001b[0;31m         return DirectoryIterator(\n\u001b[0m\u001b[1;32m   1650\u001b[0m             \u001b[0mdirectory\u001b[0m\u001b[0;34m,\u001b[0m\u001b[0;34m\u001b[0m\u001b[0;34m\u001b[0m\u001b[0m\n\u001b[1;32m   1651\u001b[0m             \u001b[0mself\u001b[0m\u001b[0;34m,\u001b[0m\u001b[0;34m\u001b[0m\u001b[0;34m\u001b[0m\u001b[0m\n",
            "\u001b[0;32m/usr/local/lib/python3.10/dist-packages/keras/src/preprocessing/image.py\u001b[0m in \u001b[0;36m__init__\u001b[0;34m(self, directory, image_data_generator, target_size, color_mode, classes, class_mode, batch_size, shuffle, seed, data_format, save_to_dir, save_prefix, save_format, follow_links, subset, interpolation, keep_aspect_ratio, dtype)\u001b[0m\n\u001b[1;32m    561\u001b[0m         \u001b[0;32mif\u001b[0m \u001b[0;32mnot\u001b[0m \u001b[0mclasses\u001b[0m\u001b[0;34m:\u001b[0m\u001b[0;34m\u001b[0m\u001b[0;34m\u001b[0m\u001b[0m\n\u001b[1;32m    562\u001b[0m             \u001b[0mclasses\u001b[0m \u001b[0;34m=\u001b[0m \u001b[0;34m[\u001b[0m\u001b[0;34m]\u001b[0m\u001b[0;34m\u001b[0m\u001b[0;34m\u001b[0m\u001b[0m\n\u001b[0;32m--> 563\u001b[0;31m             \u001b[0;32mfor\u001b[0m \u001b[0msubdir\u001b[0m \u001b[0;32min\u001b[0m \u001b[0msorted\u001b[0m\u001b[0;34m(\u001b[0m\u001b[0mos\u001b[0m\u001b[0;34m.\u001b[0m\u001b[0mlistdir\u001b[0m\u001b[0;34m(\u001b[0m\u001b[0mdirectory\u001b[0m\u001b[0;34m)\u001b[0m\u001b[0;34m)\u001b[0m\u001b[0;34m:\u001b[0m\u001b[0;34m\u001b[0m\u001b[0;34m\u001b[0m\u001b[0m\n\u001b[0m\u001b[1;32m    564\u001b[0m                 \u001b[0;32mif\u001b[0m \u001b[0mos\u001b[0m\u001b[0;34m.\u001b[0m\u001b[0mpath\u001b[0m\u001b[0;34m.\u001b[0m\u001b[0misdir\u001b[0m\u001b[0;34m(\u001b[0m\u001b[0mos\u001b[0m\u001b[0;34m.\u001b[0m\u001b[0mpath\u001b[0m\u001b[0;34m.\u001b[0m\u001b[0mjoin\u001b[0m\u001b[0;34m(\u001b[0m\u001b[0mdirectory\u001b[0m\u001b[0;34m,\u001b[0m \u001b[0msubdir\u001b[0m\u001b[0;34m)\u001b[0m\u001b[0;34m)\u001b[0m\u001b[0;34m:\u001b[0m\u001b[0;34m\u001b[0m\u001b[0;34m\u001b[0m\u001b[0m\n\u001b[1;32m    565\u001b[0m                     \u001b[0mclasses\u001b[0m\u001b[0;34m.\u001b[0m\u001b[0mappend\u001b[0m\u001b[0;34m(\u001b[0m\u001b[0msubdir\u001b[0m\u001b[0;34m)\u001b[0m\u001b[0;34m\u001b[0m\u001b[0;34m\u001b[0m\u001b[0m\n",
            "\u001b[0;31mFileNotFoundError\u001b[0m: [Errno 2] No such file or directory: '../input/cotton-disease-dataset/Cotton Disease/train'"
          ]
        }
      ],
      "source": [
        "# Make sure you provide the same target size as initialied for the image size\n",
        "training_set = train_datagen.flow_from_directory('../input/cotton-disease-dataset/Cotton Disease/train',\n",
        "                                                 target_size = (224, 224),\n",
        "                                                 batch_size = 32,\n",
        "                                                 class_mode = 'categorical')"
      ]
    },
    {
      "cell_type": "code",
      "execution_count": null,
      "metadata": {
        "execution": {
          "iopub.execute_input": "2021-01-06T14:56:46.525546Z",
          "iopub.status.busy": "2021-01-06T14:56:46.524526Z",
          "iopub.status.idle": "2021-01-06T14:56:46.631286Z",
          "shell.execute_reply": "2021-01-06T14:56:46.630554Z"
        },
        "papermill": {
          "duration": 0.151079,
          "end_time": "2021-01-06T14:56:46.631417",
          "exception": false,
          "start_time": "2021-01-06T14:56:46.480338",
          "status": "completed"
        },
        "tags": [],
        "id": "mKyvC-tPGFX7",
        "outputId": "822d88da-2b86-4050-f313-ffa569cc6ead"
      },
      "outputs": [
        {
          "name": "stdout",
          "output_type": "stream",
          "text": [
            "Found 106 images belonging to 4 classes.\n"
          ]
        }
      ],
      "source": [
        "test_set = test_datagen.flow_from_directory('../input/cotton-disease-dataset/Cotton Disease/test',\n",
        "                                            target_size = (224, 224),\n",
        "                                            batch_size = 32,\n",
        "                                            class_mode = 'categorical')"
      ]
    },
    {
      "cell_type": "code",
      "execution_count": null,
      "metadata": {
        "execution": {
          "iopub.execute_input": "2021-01-06T14:56:46.716675Z",
          "iopub.status.busy": "2021-01-06T14:56:46.715983Z",
          "iopub.status.idle": "2021-01-06T15:23:30.755086Z",
          "shell.execute_reply": "2021-01-06T15:23:30.754301Z"
        },
        "papermill": {
          "duration": 1604.084727,
          "end_time": "2021-01-06T15:23:30.755435",
          "exception": false,
          "start_time": "2021-01-06T14:56:46.670708",
          "status": "completed"
        },
        "tags": [],
        "id": "4lb4ggNaGFX8",
        "outputId": "13af58af-6ab8-4bed-baa5-6d9f85f89340"
      },
      "outputs": [
        {
          "name": "stdout",
          "output_type": "stream",
          "text": [
            "Epoch 1/4\n",
            "61/61 [==============================] - 398s 7s/step - loss: 0.8246 - accuracy: 0.7160 - val_loss: 0.2865 - val_accuracy: 0.8868\n",
            "Epoch 2/4\n",
            "61/61 [==============================] - 397s 7s/step - loss: 0.2455 - accuracy: 0.9154 - val_loss: 0.2238 - val_accuracy: 0.9340\n",
            "Epoch 3/4\n",
            "61/61 [==============================] - 385s 6s/step - loss: 0.1701 - accuracy: 0.9405 - val_loss: 0.1975 - val_accuracy: 0.9340\n",
            "Epoch 4/4\n",
            "61/61 [==============================] - 396s 6s/step - loss: 0.1419 - accuracy: 0.9569 - val_loss: 0.1584 - val_accuracy: 0.9340\n"
          ]
        }
      ],
      "source": [
        "# fit the model\n",
        "# Run the cell. It will take some time to execute\n",
        "r = model.fit_generator(\n",
        "  training_set,\n",
        "  validation_data=test_set,\n",
        "  epochs=4,\n",
        "  steps_per_epoch=len(training_set),\n",
        "  validation_steps=len(test_set)\n",
        ")"
      ]
    },
    {
      "cell_type": "markdown",
      "metadata": {
        "papermill": {
          "duration": 0.121673,
          "end_time": "2021-01-06T15:23:31.009879",
          "exception": false,
          "start_time": "2021-01-06T15:23:30.888206",
          "status": "completed"
        },
        "tags": [],
        "id": "OVyZ9mhbGFX8"
      },
      "source": [
        "### Testing\n"
      ]
    },
    {
      "cell_type": "code",
      "execution_count": null,
      "metadata": {
        "execution": {
          "iopub.execute_input": "2021-01-06T15:23:31.260486Z",
          "iopub.status.busy": "2021-01-06T15:23:31.259669Z",
          "iopub.status.idle": "2021-01-06T15:23:31.629884Z",
          "shell.execute_reply": "2021-01-06T15:23:31.629158Z"
        },
        "papermill": {
          "duration": 0.498768,
          "end_time": "2021-01-06T15:23:31.629999",
          "exception": false,
          "start_time": "2021-01-06T15:23:31.131231",
          "status": "completed"
        },
        "tags": [],
        "id": "XrVTzNlcGFX8"
      },
      "outputs": [],
      "source": [
        "import numpy as np\n",
        "from tensorflow.keras.preprocessing import image\n",
        "test_image = image.load_img('../input/cotton-disease-dataset/Cotton Disease/test/fresh cotton leaf/d (7)_iaip.jpg', target_size = (224,224))\n",
        "test_image = image.img_to_array(test_image)\n",
        "test_image=test_image/255\n",
        "test_image = np.expand_dims(test_image, axis = 0)\n",
        "result = model.predict(test_image)"
      ]
    },
    {
      "cell_type": "markdown",
      "metadata": {
        "papermill": {
          "duration": 0.120098,
          "end_time": "2021-01-06T15:23:31.875556",
          "exception": false,
          "start_time": "2021-01-06T15:23:31.755458",
          "status": "completed"
        },
        "tags": [],
        "id": "J-hxI3-uGFX8"
      },
      "source": [
        "### Conclusion"
      ]
    },
    {
      "cell_type": "code",
      "execution_count": null,
      "metadata": {
        "execution": {
          "iopub.execute_input": "2021-01-06T15:23:32.137356Z",
          "iopub.status.busy": "2021-01-06T15:23:32.136575Z",
          "iopub.status.idle": "2021-01-06T15:23:32.517478Z",
          "shell.execute_reply": "2021-01-06T15:23:32.518018Z"
        },
        "papermill": {
          "duration": 0.518722,
          "end_time": "2021-01-06T15:23:32.518176",
          "exception": false,
          "start_time": "2021-01-06T15:23:31.999454",
          "status": "completed"
        },
        "tags": [],
        "id": "JwPfo-h9GFX8",
        "outputId": "2b6ac509-4ff6-4025-b5b1-d119a6b79621"
      },
      "outputs": [
        {
          "data": {
            "image/png": "[encoded data removed]",
            "text/plain": [
              "<Figure size 432x288 with 1 Axes>"
            ]
          },
          "metadata": {
            "needs_background": "light"
          },
          "output_type": "display_data"
        },
        {
          "data": {
            "image/png": "[encoded data removed]",
            "text/plain": [
              "<Figure size 432x288 with 1 Axes>"
            ]
          },
          "metadata": {
            "needs_background": "light"
          },
          "output_type": "display_data"
        },
        {
          "data": {
            "text/plain": [
              "<Figure size 432x288 with 0 Axes>"
            ]
          },
          "metadata": {},
          "output_type": "display_data"
        }
      ],
      "source": [
        "# plot the loss\n",
        "import matplotlib.pyplot as plt\n",
        "plt.plot(r.history['loss'], label='train loss')\n",
        "plt.plot(r.history['val_loss'], label='val loss')\n",
        "plt.legend()\n",
        "plt.show()\n",
        "plt.savefig('LossVal_loss')\n",
        "\n",
        "# plot the accuracy\n",
        "plt.plot(r.history['accuracy'], label='train acc')\n",
        "plt.plot(r.history['val_accuracy'], label='val acc')\n",
        "plt.legend()\n",
        "plt.show()\n",
        "plt.savefig('AccVal_acc')"
      ]
    },
    {
      "cell_type": "code",
      "execution_count": null,
      "metadata": {
        "execution": {
          "iopub.execute_input": "2021-01-06T15:23:32.776550Z",
          "iopub.status.busy": "2021-01-06T15:23:32.775476Z",
          "iopub.status.idle": "2021-01-06T15:23:32.781867Z",
          "shell.execute_reply": "2021-01-06T15:23:32.782448Z"
        },
        "papermill": {
          "duration": 0.134681,
          "end_time": "2021-01-06T15:23:32.782593",
          "exception": false,
          "start_time": "2021-01-06T15:23:32.647912",
          "status": "completed"
        },
        "tags": [],
        "id": "tjQO14puGFX9",
        "outputId": "20cbb9d4-14d3-49db-a2be-57ca58210613"
      },
      "outputs": [
        {
          "data": {
            "text/plain": [
              "array([[1.3959750e-05, 4.5795286e-08, 9.9998605e-01, 4.0527361e-08]],\n",
              "      dtype=float32)"
            ]
          },
          "execution_count": 16,
          "metadata": {},
          "output_type": "execute_result"
        }
      ],
      "source": [
        "result"
      ]
    },
    {
      "cell_type": "code",
      "execution_count": null,
      "metadata": {
        "execution": {
          "iopub.execute_input": "2021-01-06T15:23:33.035499Z",
          "iopub.status.busy": "2021-01-06T15:23:33.034521Z",
          "iopub.status.idle": "2021-01-06T15:23:33.244664Z",
          "shell.execute_reply": "2021-01-06T15:23:33.244063Z"
        },
        "papermill": {
          "duration": 0.337596,
          "end_time": "2021-01-06T15:23:33.244796",
          "exception": false,
          "start_time": "2021-01-06T15:23:32.907200",
          "status": "completed"
        },
        "tags": [],
        "id": "gv_QP17TGFX9"
      },
      "outputs": [],
      "source": [
        "a= np.argmax(model.predict(test_image),axis=1)"
      ]
    },
    {
      "cell_type": "code",
      "execution_count": null,
      "metadata": {
        "execution": {
          "iopub.execute_input": "2021-01-06T15:23:33.497159Z",
          "iopub.status.busy": "2021-01-06T15:23:33.496451Z",
          "iopub.status.idle": "2021-01-06T15:23:33.499079Z",
          "shell.execute_reply": "2021-01-06T15:23:33.499550Z"
        },
        "papermill": {
          "duration": 0.13168,
          "end_time": "2021-01-06T15:23:33.499691",
          "exception": false,
          "start_time": "2021-01-06T15:23:33.368011",
          "status": "completed"
        },
        "tags": [],
        "id": "Ue1Vk--PGFX9",
        "outputId": "c0bf3676-889e-4f75-a1a4-494aa0c8ca9d"
      },
      "outputs": [
        {
          "data": {
            "text/plain": [
              "array([2])"
            ]
          },
          "execution_count": 18,
          "metadata": {},
          "output_type": "execute_result"
        }
      ],
      "source": [
        "a"
      ]
    },
    {
      "cell_type": "markdown",
      "metadata": {
        "papermill": {
          "duration": 0.12371,
          "end_time": "2021-01-06T15:23:33.747994",
          "exception": false,
          "start_time": "2021-01-06T15:23:33.624284",
          "status": "completed"
        },
        "tags": [],
        "id": "ICaUUD9-GFX-"
      },
      "source": [
        "### Libraries"
      ]
    },
    {
      "cell_type": "code",
      "execution_count": null,
      "metadata": {
        "execution": {
          "iopub.execute_input": "2021-01-06T15:23:34.000286Z",
          "iopub.status.busy": "2021-01-06T15:23:33.999563Z",
          "iopub.status.idle": "2021-01-06T15:23:34.003366Z",
          "shell.execute_reply": "2021-01-06T15:23:34.003826Z"
        },
        "papermill": {
          "duration": 0.132136,
          "end_time": "2021-01-06T15:23:34.003965",
          "exception": false,
          "start_time": "2021-01-06T15:23:33.871829",
          "status": "completed"
        },
        "tags": [],
        "id": "rW4dHZlgGFX-"
      },
      "outputs": [],
      "source": [
        "from tensorflow.keras.applications.resnet50 import ResNet50\n",
        "from tensorflow.keras.applications.resnet50 import preprocess_input"
      ]
    },
    {
      "cell_type": "markdown",
      "metadata": {
        "papermill": {
          "duration": 0.126056,
          "end_time": "2021-01-06T15:23:34.255291",
          "exception": false,
          "start_time": "2021-01-06T15:23:34.129235",
          "status": "completed"
        },
        "tags": [],
        "id": "L4z-T08SGFX-"
      },
      "source": [
        "### Training & DataLoader\n"
      ]
    },
    {
      "cell_type": "code",
      "execution_count": null,
      "metadata": {
        "execution": {
          "iopub.execute_input": "2021-01-06T15:23:34.563861Z",
          "iopub.status.busy": "2021-01-06T15:23:34.563208Z",
          "iopub.status.idle": "2021-01-06T15:23:34.568078Z",
          "shell.execute_reply": "2021-01-06T15:23:34.567542Z"
        },
        "papermill": {
          "duration": 0.187013,
          "end_time": "2021-01-06T15:23:34.568228",
          "exception": false,
          "start_time": "2021-01-06T15:23:34.381215",
          "status": "completed"
        },
        "tags": [],
        "id": "qu9pfWQNGFX-"
      },
      "outputs": [],
      "source": [
        "# re-size all the images to this\n",
        "IMAGE_SIZE = [224, 224]\n",
        "\n",
        "train_path1 = '../input/cotton-disease-dataset/Cotton Disease/train'\n",
        "valid_path1 = '../input/cotton-disease-dataset/Cotton Disease/test'"
      ]
    },
    {
      "cell_type": "markdown",
      "metadata": {
        "papermill": {
          "duration": 0.125325,
          "end_time": "2021-01-06T15:23:34.820794",
          "exception": false,
          "start_time": "2021-01-06T15:23:34.695469",
          "status": "completed"
        },
        "tags": [],
        "id": "hgCY0IWAGFX-"
      },
      "source": [
        "### Building the ResNet 50"
      ]
    },
    {
      "cell_type": "code",
      "execution_count": null,
      "metadata": {
        "execution": {
          "iopub.execute_input": "2021-01-06T15:23:35.074837Z",
          "iopub.status.busy": "2021-01-06T15:23:35.073881Z",
          "iopub.status.idle": "2021-01-06T15:23:38.450409Z",
          "shell.execute_reply": "2021-01-06T15:23:38.450942Z"
        },
        "papermill": {
          "duration": 3.504415,
          "end_time": "2021-01-06T15:23:38.451082",
          "exception": false,
          "start_time": "2021-01-06T15:23:34.946667",
          "status": "completed"
        },
        "tags": [],
        "id": "1C1W5b5sGFX_",
        "outputId": "7cb63850-9fae-4d00-b020-49ef0535d071"
      },
      "outputs": [
        {
          "name": "stdout",
          "output_type": "stream",
          "text": [
            "Downloading data from https://storage.googleapis.com/tensorflow/keras-applications/resnet/resnet50_weights_tf_dim_ordering_tf_kernels_notop.h5\n",
            "94773248/94765736 [==============================] - 1s 0us/step\n"
          ]
        }
      ],
      "source": [
        "ResNet50 = ResNet50(input_shape=IMAGE_SIZE + [3], weights='imagenet', include_top=False)"
      ]
    },
    {
      "cell_type": "code",
      "execution_count": null,
      "metadata": {
        "execution": {
          "iopub.execute_input": "2021-01-06T15:23:38.727314Z",
          "iopub.status.busy": "2021-01-06T15:23:38.726339Z",
          "iopub.status.idle": "2021-01-06T15:23:38.729318Z",
          "shell.execute_reply": "2021-01-06T15:23:38.728762Z"
        },
        "papermill": {
          "duration": 0.14659,
          "end_time": "2021-01-06T15:23:38.729425",
          "exception": false,
          "start_time": "2021-01-06T15:23:38.582835",
          "status": "completed"
        },
        "tags": [],
        "id": "5qE3JuHcGFX_"
      },
      "outputs": [],
      "source": [
        "# don't train existing weights\n",
        "for layer in ResNet50.layers:\n",
        "    layer.trainable = False"
      ]
    },
    {
      "cell_type": "code",
      "execution_count": null,
      "metadata": {
        "execution": {
          "iopub.execute_input": "2021-01-06T15:23:38.995459Z",
          "iopub.status.busy": "2021-01-06T15:23:38.994757Z",
          "iopub.status.idle": "2021-01-06T15:23:38.997709Z",
          "shell.execute_reply": "2021-01-06T15:23:38.998245Z"
        },
        "papermill": {
          "duration": 0.13765,
          "end_time": "2021-01-06T15:23:38.998375",
          "exception": false,
          "start_time": "2021-01-06T15:23:38.860725",
          "status": "completed"
        },
        "tags": [],
        "id": "OMcCjXUAGFYA"
      },
      "outputs": [],
      "source": [
        "# useful for getting number of output classes\n",
        "folders1 = glob('../input/cotton-disease-dataset/Cotton Disease/train/*')"
      ]
    },
    {
      "cell_type": "code",
      "execution_count": null,
      "metadata": {
        "execution": {
          "iopub.execute_input": "2021-01-06T15:23:39.264486Z",
          "iopub.status.busy": "2021-01-06T15:23:39.263865Z",
          "iopub.status.idle": "2021-01-06T15:23:39.270418Z",
          "shell.execute_reply": "2021-01-06T15:23:39.270935Z"
        },
        "papermill": {
          "duration": 0.143229,
          "end_time": "2021-01-06T15:23:39.271064",
          "exception": false,
          "start_time": "2021-01-06T15:23:39.127835",
          "status": "completed"
        },
        "tags": [],
        "id": "1dfs3WjeGFYA"
      },
      "outputs": [],
      "source": [
        "# our layers - you can add more if you want\n",
        "x1 = Flatten()(ResNet50.output)"
      ]
    },
    {
      "cell_type": "code",
      "execution_count": null,
      "metadata": {
        "execution": {
          "iopub.execute_input": "2021-01-06T15:23:39.541544Z",
          "iopub.status.busy": "2021-01-06T15:23:39.540800Z",
          "iopub.status.idle": "2021-01-06T15:23:39.570879Z",
          "shell.execute_reply": "2021-01-06T15:23:39.571412Z"
        },
        "papermill": {
          "duration": 0.16862,
          "end_time": "2021-01-06T15:23:39.571553",
          "exception": false,
          "start_time": "2021-01-06T15:23:39.402933",
          "status": "completed"
        },
        "tags": [],
        "id": "1msa07kcGFYA"
      },
      "outputs": [],
      "source": [
        "prediction1 = Dense(len(folders1), activation='softmax')(x1)\n",
        "\n",
        "# create a model object\n",
        "model1 = Model(inputs=ResNet50.input, outputs=prediction1)"
      ]
    },
    {
      "cell_type": "markdown",
      "metadata": {
        "papermill": {
          "duration": 0.131661,
          "end_time": "2021-01-06T15:23:39.834553",
          "exception": false,
          "start_time": "2021-01-06T15:23:39.702892",
          "status": "completed"
        },
        "tags": [],
        "id": "oExFCMkjGFYA"
      },
      "source": [
        "### Summary"
      ]
    },
    {
      "cell_type": "code",
      "execution_count": null,
      "metadata": {
        "execution": {
          "iopub.execute_input": "2021-01-06T15:23:40.102080Z",
          "iopub.status.busy": "2021-01-06T15:23:40.101417Z",
          "iopub.status.idle": "2021-01-06T15:23:40.154435Z",
          "shell.execute_reply": "2021-01-06T15:23:40.153507Z"
        },
        "papermill": {
          "duration": 0.188317,
          "end_time": "2021-01-06T15:23:40.154616",
          "exception": false,
          "start_time": "2021-01-06T15:23:39.966299",
          "status": "completed"
        },
        "tags": [],
        "id": "svYyuAYOGFYA",
        "outputId": "5592d6e2-6306-43c4-dc14-9612fe10a6a3"
      },
      "outputs": [
        {
          "name": "stdout",
          "output_type": "stream",
          "text": [
            "Model: \"functional_3\"\n",
            "__________________________________________________________________________________________________\n",
            "Layer (type)                    Output Shape         Param #     Connected to                     \n",
            "==================================================================================================\n",
            "input_2 (InputLayer)            [(None, 224, 224, 3) 0                                            \n",
            "__________________________________________________________________________________________________\n",
            "conv1_pad (ZeroPadding2D)       (None, 230, 230, 3)  0           input_2[0][0]                    \n",
            "__________________________________________________________________________________________________\n",
            "conv1_conv (Conv2D)             (None, 112, 112, 64) 9472        conv1_pad[0][0]                  \n",
            "__________________________________________________________________________________________________\n",
            "conv1_bn (BatchNormalization)   (None, 112, 112, 64) 256         conv1_conv[0][0]                 \n",
            "__________________________________________________________________________________________________\n",
            "conv1_relu (Activation)         (None, 112, 112, 64) 0           conv1_bn[0][0]                   \n",
            "__________________________________________________________________________________________________\n",
            "pool1_pad (ZeroPadding2D)       (None, 114, 114, 64) 0           conv1_relu[0][0]                 \n",
            "__________________________________________________________________________________________________\n",
            "pool1_pool (MaxPooling2D)       (None, 56, 56, 64)   0           pool1_pad[0][0]                  \n",
            "__________________________________________________________________________________________________\n",
            "conv2_block1_1_conv (Conv2D)    (None, 56, 56, 64)   4160        pool1_pool[0][0]                 \n",
            "__________________________________________________________________________________________________\n",
            "conv2_block1_1_bn (BatchNormali (None, 56, 56, 64)   256         conv2_block1_1_conv[0][0]        \n",
            "__________________________________________________________________________________________________\n",
            "conv2_block1_1_relu (Activation (None, 56, 56, 64)   0           conv2_block1_1_bn[0][0]          \n",
            "__________________________________________________________________________________________________\n",
            "conv2_block1_2_conv (Conv2D)    (None, 56, 56, 64)   36928       conv2_block1_1_relu[0][0]        \n",
            "__________________________________________________________________________________________________\n",
            "conv2_block1_2_bn (BatchNormali (None, 56, 56, 64)   256         conv2_block1_2_conv[0][0]        \n",
            "__________________________________________________________________________________________________\n",
            "conv2_block1_2_relu (Activation (None, 56, 56, 64)   0           conv2_block1_2_bn[0][0]          \n",
            "__________________________________________________________________________________________________\n",
            "conv2_block1_0_conv (Conv2D)    (None, 56, 56, 256)  16640       pool1_pool[0][0]                 \n",
            "__________________________________________________________________________________________________\n",
            "conv2_block1_3_conv (Conv2D)    (None, 56, 56, 256)  16640       conv2_block1_2_relu[0][0]        \n",
            "__________________________________________________________________________________________________\n",
            "conv2_block1_0_bn (BatchNormali (None, 56, 56, 256)  1024        conv2_block1_0_conv[0][0]        \n",
            "__________________________________________________________________________________________________\n",
            "conv2_block1_3_bn (BatchNormali (None, 56, 56, 256)  1024        conv2_block1_3_conv[0][0]        \n",
            "__________________________________________________________________________________________________\n",
            "conv2_block1_add (Add)          (None, 56, 56, 256)  0           conv2_block1_0_bn[0][0]          \n",
            "                                                                 conv2_block1_3_bn[0][0]          \n",
            "__________________________________________________________________________________________________\n",
            "conv2_block1_out (Activation)   (None, 56, 56, 256)  0           conv2_block1_add[0][0]           \n",
            "__________________________________________________________________________________________________\n",
            "conv2_block2_1_conv (Conv2D)    (None, 56, 56, 64)   16448       conv2_block1_out[0][0]           \n",
            "__________________________________________________________________________________________________\n",
            "conv2_block2_1_bn (BatchNormali (None, 56, 56, 64)   256         conv2_block2_1_conv[0][0]        \n",
            "__________________________________________________________________________________________________\n",
            "conv2_block2_1_relu (Activation (None, 56, 56, 64)   0           conv2_block2_1_bn[0][0]          \n",
            "__________________________________________________________________________________________________\n",
            "conv2_block2_2_conv (Conv2D)    (None, 56, 56, 64)   36928       conv2_block2_1_relu[0][0]        \n",
            "__________________________________________________________________________________________________\n",
            "conv2_block2_2_bn (BatchNormali (None, 56, 56, 64)   256         conv2_block2_2_conv[0][0]        \n",
            "__________________________________________________________________________________________________\n",
            "conv2_block2_2_relu (Activation (None, 56, 56, 64)   0           conv2_block2_2_bn[0][0]          \n",
            "__________________________________________________________________________________________________\n",
            "conv2_block2_3_conv (Conv2D)    (None, 56, 56, 256)  16640       conv2_block2_2_relu[0][0]        \n",
            "__________________________________________________________________________________________________\n",
            "conv2_block2_3_bn (BatchNormali (None, 56, 56, 256)  1024        conv2_block2_3_conv[0][0]        \n",
            "__________________________________________________________________________________________________\n",
            "conv2_block2_add (Add)          (None, 56, 56, 256)  0           conv2_block1_out[0][0]           \n",
            "                                                                 conv2_block2_3_bn[0][0]          \n",
            "__________________________________________________________________________________________________\n",
            "conv2_block2_out (Activation)   (None, 56, 56, 256)  0           conv2_block2_add[0][0]           \n",
            "__________________________________________________________________________________________________\n",
            "conv2_block3_1_conv (Conv2D)    (None, 56, 56, 64)   16448       conv2_block2_out[0][0]           \n",
            "__________________________________________________________________________________________________\n",
            "conv2_block3_1_bn (BatchNormali (None, 56, 56, 64)   256         conv2_block3_1_conv[0][0]        \n",
            "__________________________________________________________________________________________________\n",
            "conv2_block3_1_relu (Activation (None, 56, 56, 64)   0           conv2_block3_1_bn[0][0]          \n",
            "__________________________________________________________________________________________________\n",
            "conv2_block3_2_conv (Conv2D)    (None, 56, 56, 64)   36928       conv2_block3_1_relu[0][0]        \n",
            "__________________________________________________________________________________________________\n",
            "conv2_block3_2_bn (BatchNormali (None, 56, 56, 64)   256         conv2_block3_2_conv[0][0]        \n",
            "__________________________________________________________________________________________________\n",
            "conv2_block3_2_relu (Activation (None, 56, 56, 64)   0           conv2_block3_2_bn[0][0]          \n",
            "__________________________________________________________________________________________________\n",
            "conv2_block3_3_conv (Conv2D)    (None, 56, 56, 256)  16640       conv2_block3_2_relu[0][0]        \n",
            "__________________________________________________________________________________________________\n",
            "conv2_block3_3_bn (BatchNormali (None, 56, 56, 256)  1024        conv2_block3_3_conv[0][0]        \n",
            "__________________________________________________________________________________________________\n",
            "conv2_block3_add (Add)          (None, 56, 56, 256)  0           conv2_block2_out[0][0]           \n",
            "                                                                 conv2_block3_3_bn[0][0]          \n",
            "__________________________________________________________________________________________________\n",
            "conv2_block3_out (Activation)   (None, 56, 56, 256)  0           conv2_block3_add[0][0]           \n",
            "__________________________________________________________________________________________________\n",
            "conv3_block1_1_conv (Conv2D)    (None, 28, 28, 128)  32896       conv2_block3_out[0][0]           \n",
            "__________________________________________________________________________________________________\n",
            "conv3_block1_1_bn (BatchNormali (None, 28, 28, 128)  512         conv3_block1_1_conv[0][0]        \n",
            "__________________________________________________________________________________________________\n",
            "conv3_block1_1_relu (Activation (None, 28, 28, 128)  0           conv3_block1_1_bn[0][0]          \n",
            "__________________________________________________________________________________________________\n",
            "conv3_block1_2_conv (Conv2D)    (None, 28, 28, 128)  147584      conv3_block1_1_relu[0][0]        \n",
            "__________________________________________________________________________________________________\n",
            "conv3_block1_2_bn (BatchNormali (None, 28, 28, 128)  512         conv3_block1_2_conv[0][0]        \n",
            "__________________________________________________________________________________________________\n",
            "conv3_block1_2_relu (Activation (None, 28, 28, 128)  0           conv3_block1_2_bn[0][0]          \n",
            "__________________________________________________________________________________________________\n",
            "conv3_block1_0_conv (Conv2D)    (None, 28, 28, 512)  131584      conv2_block3_out[0][0]           \n",
            "__________________________________________________________________________________________________\n",
            "conv3_block1_3_conv (Conv2D)    (None, 28, 28, 512)  66048       conv3_block1_2_relu[0][0]        \n",
            "__________________________________________________________________________________________________\n",
            "conv3_block1_0_bn (BatchNormali (None, 28, 28, 512)  2048        conv3_block1_0_conv[0][0]        \n",
            "__________________________________________________________________________________________________\n",
            "conv3_block1_3_bn (BatchNormali (None, 28, 28, 512)  2048        conv3_block1_3_conv[0][0]        \n",
            "__________________________________________________________________________________________________\n",
            "conv3_block1_add (Add)          (None, 28, 28, 512)  0           conv3_block1_0_bn[0][0]          \n",
            "                                                                 conv3_block1_3_bn[0][0]          \n",
            "__________________________________________________________________________________________________\n",
            "conv3_block1_out (Activation)   (None, 28, 28, 512)  0           conv3_block1_add[0][0]           \n",
            "__________________________________________________________________________________________________\n",
            "conv3_block2_1_conv (Conv2D)    (None, 28, 28, 128)  65664       conv3_block1_out[0][0]           \n",
            "__________________________________________________________________________________________________\n",
            "conv3_block2_1_bn (BatchNormali (None, 28, 28, 128)  512         conv3_block2_1_conv[0][0]        \n",
            "__________________________________________________________________________________________________\n",
            "conv3_block2_1_relu (Activation (None, 28, 28, 128)  0           conv3_block2_1_bn[0][0]          \n",
            "__________________________________________________________________________________________________\n",
            "conv3_block2_2_conv (Conv2D)    (None, 28, 28, 128)  147584      conv3_block2_1_relu[0][0]        \n",
            "__________________________________________________________________________________________________\n",
            "conv3_block2_2_bn (BatchNormali (None, 28, 28, 128)  512         conv3_block2_2_conv[0][0]        \n",
            "__________________________________________________________________________________________________\n",
            "conv3_block2_2_relu (Activation (None, 28, 28, 128)  0           conv3_block2_2_bn[0][0]          \n",
            "__________________________________________________________________________________________________\n",
            "conv3_block2_3_conv (Conv2D)    (None, 28, 28, 512)  66048       conv3_block2_2_relu[0][0]        \n",
            "__________________________________________________________________________________________________\n",
            "conv3_block2_3_bn (BatchNormali (None, 28, 28, 512)  2048        conv3_block2_3_conv[0][0]        \n",
            "__________________________________________________________________________________________________\n",
            "conv3_block2_add (Add)          (None, 28, 28, 512)  0           conv3_block1_out[0][0]           \n",
            "                                                                 conv3_block2_3_bn[0][0]          \n",
            "__________________________________________________________________________________________________\n",
            "conv3_block2_out (Activation)   (None, 28, 28, 512)  0           conv3_block2_add[0][0]           \n",
            "__________________________________________________________________________________________________\n",
            "conv3_block3_1_conv (Conv2D)    (None, 28, 28, 128)  65664       conv3_block2_out[0][0]           \n",
            "__________________________________________________________________________________________________\n",
            "conv3_block3_1_bn (BatchNormali (None, 28, 28, 128)  512         conv3_block3_1_conv[0][0]        \n",
            "__________________________________________________________________________________________________\n",
            "conv3_block3_1_relu (Activation (None, 28, 28, 128)  0           conv3_block3_1_bn[0][0]          \n",
            "__________________________________________________________________________________________________\n",
            "conv3_block3_2_conv (Conv2D)    (None, 28, 28, 128)  147584      conv3_block3_1_relu[0][0]        \n",
            "__________________________________________________________________________________________________\n",
            "conv3_block3_2_bn (BatchNormali (None, 28, 28, 128)  512         conv3_block3_2_conv[0][0]        \n",
            "__________________________________________________________________________________________________\n",
            "conv3_block3_2_relu (Activation (None, 28, 28, 128)  0           conv3_block3_2_bn[0][0]          \n",
            "__________________________________________________________________________________________________\n",
            "conv3_block3_3_conv (Conv2D)    (None, 28, 28, 512)  66048       conv3_block3_2_relu[0][0]        \n",
            "__________________________________________________________________________________________________\n",
            "conv3_block3_3_bn (BatchNormali (None, 28, 28, 512)  2048        conv3_block3_3_conv[0][0]        \n",
            "__________________________________________________________________________________________________\n",
            "conv3_block3_add (Add)          (None, 28, 28, 512)  0           conv3_block2_out[0][0]           \n",
            "                                                                 conv3_block3_3_bn[0][0]          \n",
            "__________________________________________________________________________________________________\n",
            "conv3_block3_out (Activation)   (None, 28, 28, 512)  0           conv3_block3_add[0][0]           \n",
            "__________________________________________________________________________________________________\n",
            "conv3_block4_1_conv (Conv2D)    (None, 28, 28, 128)  65664       conv3_block3_out[0][0]           \n",
            "__________________________________________________________________________________________________\n",
            "conv3_block4_1_bn (BatchNormali (None, 28, 28, 128)  512         conv3_block4_1_conv[0][0]        \n",
            "__________________________________________________________________________________________________\n",
            "conv3_block4_1_relu (Activation (None, 28, 28, 128)  0           conv3_block4_1_bn[0][0]          \n",
            "__________________________________________________________________________________________________\n",
            "conv3_block4_2_conv (Conv2D)    (None, 28, 28, 128)  147584      conv3_block4_1_relu[0][0]        \n",
            "__________________________________________________________________________________________________\n",
            "conv3_block4_2_bn (BatchNormali (None, 28, 28, 128)  512         conv3_block4_2_conv[0][0]        \n",
            "__________________________________________________________________________________________________\n",
            "conv3_block4_2_relu (Activation (None, 28, 28, 128)  0           conv3_block4_2_bn[0][0]          \n",
            "__________________________________________________________________________________________________\n",
            "conv3_block4_3_conv (Conv2D)    (None, 28, 28, 512)  66048       conv3_block4_2_relu[0][0]        \n",
            "__________________________________________________________________________________________________\n",
            "conv3_block4_3_bn (BatchNormali (None, 28, 28, 512)  2048        conv3_block4_3_conv[0][0]        \n",
            "__________________________________________________________________________________________________\n",
            "conv3_block4_add (Add)          (None, 28, 28, 512)  0           conv3_block3_out[0][0]           \n",
            "                                                                 conv3_block4_3_bn[0][0]          \n",
            "__________________________________________________________________________________________________\n",
            "conv3_block4_out (Activation)   (None, 28, 28, 512)  0           conv3_block4_add[0][0]           \n",
            "__________________________________________________________________________________________________\n",
            "conv4_block1_1_conv (Conv2D)    (None, 14, 14, 256)  131328      conv3_block4_out[0][0]           \n",
            "__________________________________________________________________________________________________\n",
            "conv4_block1_1_bn (BatchNormali (None, 14, 14, 256)  1024        conv4_block1_1_conv[0][0]        \n",
            "__________________________________________________________________________________________________\n",
            "conv4_block1_1_relu (Activation (None, 14, 14, 256)  0           conv4_block1_1_bn[0][0]          \n",
            "__________________________________________________________________________________________________\n",
            "conv4_block1_2_conv (Conv2D)    (None, 14, 14, 256)  590080      conv4_block1_1_relu[0][0]        \n",
            "__________________________________________________________________________________________________\n",
            "conv4_block1_2_bn (BatchNormali (None, 14, 14, 256)  1024        conv4_block1_2_conv[0][0]        \n",
            "__________________________________________________________________________________________________\n",
            "conv4_block1_2_relu (Activation (None, 14, 14, 256)  0           conv4_block1_2_bn[0][0]          \n",
            "__________________________________________________________________________________________________\n",
            "conv4_block1_0_conv (Conv2D)    (None, 14, 14, 1024) 525312      conv3_block4_out[0][0]           \n",
            "__________________________________________________________________________________________________\n",
            "conv4_block1_3_conv (Conv2D)    (None, 14, 14, 1024) 263168      conv4_block1_2_relu[0][0]        \n",
            "__________________________________________________________________________________________________\n",
            "conv4_block1_0_bn (BatchNormali (None, 14, 14, 1024) 4096        conv4_block1_0_conv[0][0]        \n",
            "__________________________________________________________________________________________________\n",
            "conv4_block1_3_bn (BatchNormali (None, 14, 14, 1024) 4096        conv4_block1_3_conv[0][0]        \n",
            "__________________________________________________________________________________________________\n",
            "conv4_block1_add (Add)          (None, 14, 14, 1024) 0           conv4_block1_0_bn[0][0]          \n",
            "                                                                 conv4_block1_3_bn[0][0]          \n",
            "__________________________________________________________________________________________________\n",
            "conv4_block1_out (Activation)   (None, 14, 14, 1024) 0           conv4_block1_add[0][0]           \n",
            "__________________________________________________________________________________________________\n",
            "conv4_block2_1_conv (Conv2D)    (None, 14, 14, 256)  262400      conv4_block1_out[0][0]           \n",
            "__________________________________________________________________________________________________\n",
            "conv4_block2_1_bn (BatchNormali (None, 14, 14, 256)  1024        conv4_block2_1_conv[0][0]        \n",
            "__________________________________________________________________________________________________\n",
            "conv4_block2_1_relu (Activation (None, 14, 14, 256)  0           conv4_block2_1_bn[0][0]          \n",
            "__________________________________________________________________________________________________\n",
            "conv4_block2_2_conv (Conv2D)    (None, 14, 14, 256)  590080      conv4_block2_1_relu[0][0]        \n",
            "__________________________________________________________________________________________________\n",
            "conv4_block2_2_bn (BatchNormali (None, 14, 14, 256)  1024        conv4_block2_2_conv[0][0]        \n",
            "__________________________________________________________________________________________________\n",
            "conv4_block2_2_relu (Activation (None, 14, 14, 256)  0           conv4_block2_2_bn[0][0]          \n",
            "__________________________________________________________________________________________________\n",
            "conv4_block2_3_conv (Conv2D)    (None, 14, 14, 1024) 263168      conv4_block2_2_relu[0][0]        \n",
            "__________________________________________________________________________________________________\n",
            "conv4_block2_3_bn (BatchNormali (None, 14, 14, 1024) 4096        conv4_block2_3_conv[0][0]        \n",
            "__________________________________________________________________________________________________\n",
            "conv4_block2_add (Add)          (None, 14, 14, 1024) 0           conv4_block1_out[0][0]           \n",
            "                                                                 conv4_block2_3_bn[0][0]          \n",
            "__________________________________________________________________________________________________\n",
            "conv4_block2_out (Activation)   (None, 14, 14, 1024) 0           conv4_block2_add[0][0]           \n",
            "__________________________________________________________________________________________________\n",
            "conv4_block3_1_conv (Conv2D)    (None, 14, 14, 256)  262400      conv4_block2_out[0][0]           \n",
            "__________________________________________________________________________________________________\n",
            "conv4_block3_1_bn (BatchNormali (None, 14, 14, 256)  1024        conv4_block3_1_conv[0][0]        \n",
            "__________________________________________________________________________________________________\n",
            "conv4_block3_1_relu (Activation (None, 14, 14, 256)  0           conv4_block3_1_bn[0][0]          \n",
            "__________________________________________________________________________________________________\n",
            "conv4_block3_2_conv (Conv2D)    (None, 14, 14, 256)  590080      conv4_block3_1_relu[0][0]        \n",
            "__________________________________________________________________________________________________\n",
            "conv4_block3_2_bn (BatchNormali (None, 14, 14, 256)  1024        conv4_block3_2_conv[0][0]        \n",
            "__________________________________________________________________________________________________\n",
            "conv4_block3_2_relu (Activation (None, 14, 14, 256)  0           conv4_block3_2_bn[0][0]          \n",
            "__________________________________________________________________________________________________\n",
            "conv4_block3_3_conv (Conv2D)    (None, 14, 14, 1024) 263168      conv4_block3_2_relu[0][0]        \n",
            "__________________________________________________________________________________________________\n",
            "conv4_block3_3_bn (BatchNormali (None, 14, 14, 1024) 4096        conv4_block3_3_conv[0][0]        \n",
            "__________________________________________________________________________________________________\n",
            "conv4_block3_add (Add)          (None, 14, 14, 1024) 0           conv4_block2_out[0][0]           \n",
            "                                                                 conv4_block3_3_bn[0][0]          \n",
            "__________________________________________________________________________________________________\n",
            "conv4_block3_out (Activation)   (None, 14, 14, 1024) 0           conv4_block3_add[0][0]           \n",
            "__________________________________________________________________________________________________\n",
            "conv4_block4_1_conv (Conv2D)    (None, 14, 14, 256)  262400      conv4_block3_out[0][0]           \n",
            "__________________________________________________________________________________________________\n",
            "conv4_block4_1_bn (BatchNormali (None, 14, 14, 256)  1024        conv4_block4_1_conv[0][0]        \n",
            "__________________________________________________________________________________________________\n",
            "conv4_block4_1_relu (Activation (None, 14, 14, 256)  0           conv4_block4_1_bn[0][0]          \n",
            "__________________________________________________________________________________________________\n",
            "conv4_block4_2_conv (Conv2D)    (None, 14, 14, 256)  590080      conv4_block4_1_relu[0][0]        \n",
            "__________________________________________________________________________________________________\n",
            "conv4_block4_2_bn (BatchNormali (None, 14, 14, 256)  1024        conv4_block4_2_conv[0][0]        \n",
            "__________________________________________________________________________________________________\n",
            "conv4_block4_2_relu (Activation (None, 14, 14, 256)  0           conv4_block4_2_bn[0][0]          \n",
            "__________________________________________________________________________________________________\n",
            "conv4_block4_3_conv (Conv2D)    (None, 14, 14, 1024) 263168      conv4_block4_2_relu[0][0]        \n",
            "__________________________________________________________________________________________________\n",
            "conv4_block4_3_bn (BatchNormali (None, 14, 14, 1024) 4096        conv4_block4_3_conv[0][0]        \n",
            "__________________________________________________________________________________________________\n",
            "conv4_block4_add (Add)          (None, 14, 14, 1024) 0           conv4_block3_out[0][0]           \n",
            "                                                                 conv4_block4_3_bn[0][0]          \n",
            "__________________________________________________________________________________________________\n",
            "conv4_block4_out (Activation)   (None, 14, 14, 1024) 0           conv4_block4_add[0][0]           \n",
            "__________________________________________________________________________________________________\n",
            "conv4_block5_1_conv (Conv2D)    (None, 14, 14, 256)  262400      conv4_block4_out[0][0]           \n",
            "__________________________________________________________________________________________________\n",
            "conv4_block5_1_bn (BatchNormali (None, 14, 14, 256)  1024        conv4_block5_1_conv[0][0]        \n",
            "__________________________________________________________________________________________________\n",
            "conv4_block5_1_relu (Activation (None, 14, 14, 256)  0           conv4_block5_1_bn[0][0]          \n",
            "__________________________________________________________________________________________________\n",
            "conv4_block5_2_conv (Conv2D)    (None, 14, 14, 256)  590080      conv4_block5_1_relu[0][0]        \n",
            "__________________________________________________________________________________________________\n",
            "conv4_block5_2_bn (BatchNormali (None, 14, 14, 256)  1024        conv4_block5_2_conv[0][0]        \n",
            "__________________________________________________________________________________________________\n",
            "conv4_block5_2_relu (Activation (None, 14, 14, 256)  0           conv4_block5_2_bn[0][0]          \n",
            "__________________________________________________________________________________________________\n",
            "conv4_block5_3_conv (Conv2D)    (None, 14, 14, 1024) 263168      conv4_block5_2_relu[0][0]        \n",
            "__________________________________________________________________________________________________\n",
            "conv4_block5_3_bn (BatchNormali (None, 14, 14, 1024) 4096        conv4_block5_3_conv[0][0]        \n",
            "__________________________________________________________________________________________________\n",
            "conv4_block5_add (Add)          (None, 14, 14, 1024) 0           conv4_block4_out[0][0]           \n",
            "                                                                 conv4_block5_3_bn[0][0]          \n",
            "__________________________________________________________________________________________________\n",
            "conv4_block5_out (Activation)   (None, 14, 14, 1024) 0           conv4_block5_add[0][0]           \n",
            "__________________________________________________________________________________________________\n",
            "conv4_block6_1_conv (Conv2D)    (None, 14, 14, 256)  262400      conv4_block5_out[0][0]           \n",
            "__________________________________________________________________________________________________\n",
            "conv4_block6_1_bn (BatchNormali (None, 14, 14, 256)  1024        conv4_block6_1_conv[0][0]        \n",
            "__________________________________________________________________________________________________\n",
            "conv4_block6_1_relu (Activation (None, 14, 14, 256)  0           conv4_block6_1_bn[0][0]          \n",
            "__________________________________________________________________________________________________\n",
            "conv4_block6_2_conv (Conv2D)    (None, 14, 14, 256)  590080      conv4_block6_1_relu[0][0]        \n",
            "__________________________________________________________________________________________________\n",
            "conv4_block6_2_bn (BatchNormali (None, 14, 14, 256)  1024        conv4_block6_2_conv[0][0]        \n",
            "__________________________________________________________________________________________________\n",
            "conv4_block6_2_relu (Activation (None, 14, 14, 256)  0           conv4_block6_2_bn[0][0]          \n",
            "__________________________________________________________________________________________________\n",
            "conv4_block6_3_conv (Conv2D)    (None, 14, 14, 1024) 263168      conv4_block6_2_relu[0][0]        \n",
            "__________________________________________________________________________________________________\n",
            "conv4_block6_3_bn (BatchNormali (None, 14, 14, 1024) 4096        conv4_block6_3_conv[0][0]        \n",
            "__________________________________________________________________________________________________\n",
            "conv4_block6_add (Add)          (None, 14, 14, 1024) 0           conv4_block5_out[0][0]           \n",
            "                                                                 conv4_block6_3_bn[0][0]          \n",
            "__________________________________________________________________________________________________\n",
            "conv4_block6_out (Activation)   (None, 14, 14, 1024) 0           conv4_block6_add[0][0]           \n",
            "__________________________________________________________________________________________________\n",
            "conv5_block1_1_conv (Conv2D)    (None, 7, 7, 512)    524800      conv4_block6_out[0][0]           \n",
            "__________________________________________________________________________________________________\n",
            "conv5_block1_1_bn (BatchNormali (None, 7, 7, 512)    2048        conv5_block1_1_conv[0][0]        \n",
            "__________________________________________________________________________________________________\n",
            "conv5_block1_1_relu (Activation (None, 7, 7, 512)    0           conv5_block1_1_bn[0][0]          \n",
            "__________________________________________________________________________________________________\n",
            "conv5_block1_2_conv (Conv2D)    (None, 7, 7, 512)    2359808     conv5_block1_1_relu[0][0]        \n",
            "__________________________________________________________________________________________________\n",
            "conv5_block1_2_bn (BatchNormali (None, 7, 7, 512)    2048        conv5_block1_2_conv[0][0]        \n",
            "__________________________________________________________________________________________________\n",
            "conv5_block1_2_relu (Activation (None, 7, 7, 512)    0           conv5_block1_2_bn[0][0]          \n",
            "__________________________________________________________________________________________________\n",
            "conv5_block1_0_conv (Conv2D)    (None, 7, 7, 2048)   2099200     conv4_block6_out[0][0]           \n",
            "__________________________________________________________________________________________________\n",
            "conv5_block1_3_conv (Conv2D)    (None, 7, 7, 2048)   1050624     conv5_block1_2_relu[0][0]        \n",
            "__________________________________________________________________________________________________\n",
            "conv5_block1_0_bn (BatchNormali (None, 7, 7, 2048)   8192        conv5_block1_0_conv[0][0]        \n",
            "__________________________________________________________________________________________________\n",
            "conv5_block1_3_bn (BatchNormali (None, 7, 7, 2048)   8192        conv5_block1_3_conv[0][0]        \n",
            "__________________________________________________________________________________________________\n",
            "conv5_block1_add (Add)          (None, 7, 7, 2048)   0           conv5_block1_0_bn[0][0]          \n",
            "                                                                 conv5_block1_3_bn[0][0]          \n",
            "__________________________________________________________________________________________________\n",
            "conv5_block1_out (Activation)   (None, 7, 7, 2048)   0           conv5_block1_add[0][0]           \n",
            "__________________________________________________________________________________________________\n",
            "conv5_block2_1_conv (Conv2D)    (None, 7, 7, 512)    1049088     conv5_block1_out[0][0]           \n",
            "__________________________________________________________________________________________________\n",
            "conv5_block2_1_bn (BatchNormali (None, 7, 7, 512)    2048        conv5_block2_1_conv[0][0]        \n",
            "__________________________________________________________________________________________________\n",
            "conv5_block2_1_relu (Activation (None, 7, 7, 512)    0           conv5_block2_1_bn[0][0]          \n",
            "__________________________________________________________________________________________________\n",
            "conv5_block2_2_conv (Conv2D)    (None, 7, 7, 512)    2359808     conv5_block2_1_relu[0][0]        \n",
            "__________________________________________________________________________________________________\n",
            "conv5_block2_2_bn (BatchNormali (None, 7, 7, 512)    2048        conv5_block2_2_conv[0][0]        \n",
            "__________________________________________________________________________________________________\n",
            "conv5_block2_2_relu (Activation (None, 7, 7, 512)    0           conv5_block2_2_bn[0][0]          \n",
            "__________________________________________________________________________________________________\n",
            "conv5_block2_3_conv (Conv2D)    (None, 7, 7, 2048)   1050624     conv5_block2_2_relu[0][0]        \n",
            "__________________________________________________________________________________________________\n",
            "conv5_block2_3_bn (BatchNormali (None, 7, 7, 2048)   8192        conv5_block2_3_conv[0][0]        \n",
            "__________________________________________________________________________________________________\n",
            "conv5_block2_add (Add)          (None, 7, 7, 2048)   0           conv5_block1_out[0][0]           \n",
            "                                                                 conv5_block2_3_bn[0][0]          \n",
            "__________________________________________________________________________________________________\n",
            "conv5_block2_out (Activation)   (None, 7, 7, 2048)   0           conv5_block2_add[0][0]           \n",
            "__________________________________________________________________________________________________\n",
            "conv5_block3_1_conv (Conv2D)    (None, 7, 7, 512)    1049088     conv5_block2_out[0][0]           \n",
            "__________________________________________________________________________________________________\n",
            "conv5_block3_1_bn (BatchNormali (None, 7, 7, 512)    2048        conv5_block3_1_conv[0][0]        \n",
            "__________________________________________________________________________________________________\n",
            "conv5_block3_1_relu (Activation (None, 7, 7, 512)    0           conv5_block3_1_bn[0][0]          \n",
            "__________________________________________________________________________________________________\n",
            "conv5_block3_2_conv (Conv2D)    (None, 7, 7, 512)    2359808     conv5_block3_1_relu[0][0]        \n",
            "__________________________________________________________________________________________________\n",
            "conv5_block3_2_bn (BatchNormali (None, 7, 7, 512)    2048        conv5_block3_2_conv[0][0]        \n",
            "__________________________________________________________________________________________________\n",
            "conv5_block3_2_relu (Activation (None, 7, 7, 512)    0           conv5_block3_2_bn[0][0]          \n",
            "__________________________________________________________________________________________________\n",
            "conv5_block3_3_conv (Conv2D)    (None, 7, 7, 2048)   1050624     conv5_block3_2_relu[0][0]        \n",
            "__________________________________________________________________________________________________\n",
            "conv5_block3_3_bn (BatchNormali (None, 7, 7, 2048)   8192        conv5_block3_3_conv[0][0]        \n",
            "__________________________________________________________________________________________________\n",
            "conv5_block3_add (Add)          (None, 7, 7, 2048)   0           conv5_block2_out[0][0]           \n",
            "                                                                 conv5_block3_3_bn[0][0]          \n",
            "__________________________________________________________________________________________________\n",
            "conv5_block3_out (Activation)   (None, 7, 7, 2048)   0           conv5_block3_add[0][0]           \n",
            "__________________________________________________________________________________________________\n",
            "flatten_1 (Flatten)             (None, 100352)       0           conv5_block3_out[0][0]           \n",
            "__________________________________________________________________________________________________\n",
            "dense_1 (Dense)                 (None, 4)            401412      flatten_1[0][0]                  \n",
            "==================================================================================================\n",
            "Total params: 23,989,124\n",
            "Trainable params: 401,412\n",
            "Non-trainable params: 23,587,712\n",
            "__________________________________________________________________________________________________\n"
          ]
        }
      ],
      "source": [
        "# view the structure of the model\n",
        "model1.summary()"
      ]
    },
    {
      "cell_type": "markdown",
      "metadata": {
        "papermill": {
          "duration": 0.131364,
          "end_time": "2021-01-06T15:23:40.439217",
          "exception": false,
          "start_time": "2021-01-06T15:23:40.307853",
          "status": "completed"
        },
        "tags": [],
        "id": "Neg2Rsj4GFYH"
      },
      "source": [
        "### Training The ResNet 50"
      ]
    },
    {
      "cell_type": "code",
      "execution_count": null,
      "metadata": {
        "execution": {
          "iopub.execute_input": "2021-01-06T15:23:40.716714Z",
          "iopub.status.busy": "2021-01-06T15:23:40.715568Z",
          "iopub.status.idle": "2021-01-06T15:23:40.722707Z",
          "shell.execute_reply": "2021-01-06T15:23:40.722157Z"
        },
        "papermill": {
          "duration": 0.152462,
          "end_time": "2021-01-06T15:23:40.722841",
          "exception": false,
          "start_time": "2021-01-06T15:23:40.570379",
          "status": "completed"
        },
        "tags": [],
        "id": "10b_-zsNGFYH"
      },
      "outputs": [],
      "source": [
        "# tell the model what cost and optimization method to use\n",
        "model1.compile(\n",
        "  loss='categorical_crossentropy',\n",
        "  optimizer='adam',\n",
        "  metrics=['accuracy']\n",
        ")"
      ]
    },
    {
      "cell_type": "code",
      "execution_count": null,
      "metadata": {
        "execution": {
          "iopub.execute_input": "2021-01-06T15:23:40.991180Z",
          "iopub.status.busy": "2021-01-06T15:23:40.990241Z",
          "iopub.status.idle": "2021-01-06T15:23:40.993186Z",
          "shell.execute_reply": "2021-01-06T15:23:40.992687Z"
        },
        "papermill": {
          "duration": 0.139416,
          "end_time": "2021-01-06T15:23:40.993294",
          "exception": false,
          "start_time": "2021-01-06T15:23:40.853878",
          "status": "completed"
        },
        "tags": [],
        "id": "qQIlWwHJGFYI"
      },
      "outputs": [],
      "source": [
        "# Use the Image Data Generator to import the images from the dataset\n",
        "from tensorflow.keras.preprocessing.image import ImageDataGenerator\n",
        "\n",
        "train_datagen1 = ImageDataGenerator(rescale = 1./255,\n",
        "                                   shear_range = 0.2,\n",
        "                                   zoom_range = 0.2,\n",
        "                                   horizontal_flip = True)\n",
        "\n",
        "test_datagen1 = ImageDataGenerator(rescale = 1./255)"
      ]
    },
    {
      "cell_type": "code",
      "execution_count": null,
      "metadata": {
        "execution": {
          "iopub.execute_input": "2021-01-06T15:23:41.263565Z",
          "iopub.status.busy": "2021-01-06T15:23:41.262797Z",
          "iopub.status.idle": "2021-01-06T15:23:41.477919Z",
          "shell.execute_reply": "2021-01-06T15:23:41.477017Z"
        },
        "papermill": {
          "duration": 0.351712,
          "end_time": "2021-01-06T15:23:41.478072",
          "exception": false,
          "start_time": "2021-01-06T15:23:41.126360",
          "status": "completed"
        },
        "tags": [],
        "id": "SPJLGcFKGFYI",
        "outputId": "161d14b3-b7f1-4295-d3f7-de6a46a6a679"
      },
      "outputs": [
        {
          "name": "stdout",
          "output_type": "stream",
          "text": [
            "Found 1951 images belonging to 4 classes.\n"
          ]
        }
      ],
      "source": [
        "# Make sure you provide the same target size as initialied for the image size\n",
        "training_set = train_datagen1.flow_from_directory('../input/cotton-disease-dataset/Cotton Disease/train',\n",
        "                                                 target_size = (224, 224),\n",
        "                                                 batch_size = 32,\n",
        "                                                 class_mode = 'categorical')"
      ]
    },
    {
      "cell_type": "code",
      "execution_count": null,
      "metadata": {
        "execution": {
          "iopub.execute_input": "2021-01-06T15:23:41.748746Z",
          "iopub.status.busy": "2021-01-06T15:23:41.747950Z",
          "iopub.status.idle": "2021-01-06T15:23:41.856406Z",
          "shell.execute_reply": "2021-01-06T15:23:41.855324Z"
        },
        "papermill": {
          "duration": 0.245767,
          "end_time": "2021-01-06T15:23:41.856692",
          "exception": false,
          "start_time": "2021-01-06T15:23:41.610925",
          "status": "completed"
        },
        "tags": [],
        "id": "2Rzvo5XMGFYI",
        "outputId": "4db66397-17b7-440b-ecb5-8f236f96768c"
      },
      "outputs": [
        {
          "name": "stdout",
          "output_type": "stream",
          "text": [
            "Found 106 images belonging to 4 classes.\n"
          ]
        }
      ],
      "source": [
        "test_set = test_datagen1.flow_from_directory('../input/cotton-disease-dataset/Cotton Disease/test',\n",
        "                                            target_size = (224, 224),\n",
        "                                            batch_size = 32,\n",
        "                                            class_mode = 'categorical')"
      ]
    },
    {
      "cell_type": "code",
      "execution_count": null,
      "metadata": {
        "execution": {
          "iopub.execute_input": "2021-01-06T15:23:42.134635Z",
          "iopub.status.busy": "2021-01-06T15:23:42.134007Z",
          "iopub.status.idle": "2021-01-06T15:49:57.396324Z",
          "shell.execute_reply": "2021-01-06T15:49:57.395439Z"
        },
        "papermill": {
          "duration": 1575.401086,
          "end_time": "2021-01-06T15:49:57.396450",
          "exception": false,
          "start_time": "2021-01-06T15:23:41.995364",
          "status": "completed"
        },
        "tags": [],
        "id": "YNt-XlD2GFYI",
        "outputId": "88c766d4-7c17-4118-9e02-41aba0e74f79"
      },
      "outputs": [
        {
          "name": "stdout",
          "output_type": "stream",
          "text": [
            "Epoch 1/4\n",
            "61/61 [==============================] - 390s 6s/step - loss: 0.1296 - accuracy: 0.9569 - val_loss: 0.1977 - val_accuracy: 0.9434\n",
            "Epoch 2/4\n",
            "61/61 [==============================] - 382s 6s/step - loss: 0.1006 - accuracy: 0.9662 - val_loss: 0.1333 - val_accuracy: 0.9528\n",
            "Epoch 3/4\n",
            "61/61 [==============================] - 395s 6s/step - loss: 0.0988 - accuracy: 0.9739 - val_loss: 0.1029 - val_accuracy: 0.9528\n",
            "Epoch 4/4\n",
            "61/61 [==============================] - 381s 6s/step - loss: 0.0826 - accuracy: 0.9744 - val_loss: 0.1951 - val_accuracy: 0.9340\n"
          ]
        }
      ],
      "source": [
        "\n",
        "d = model.fit_generator(\n",
        "  training_set,\n",
        "  validation_data=test_set,\n",
        "  epochs=4,\n",
        "  steps_per_epoch=len(training_set),\n",
        "  validation_steps=len(test_set)\n",
        ")"
      ]
    },
    {
      "cell_type": "markdown",
      "metadata": {
        "papermill": {
          "duration": 0.214889,
          "end_time": "2021-01-06T15:49:57.823034",
          "exception": false,
          "start_time": "2021-01-06T15:49:57.608145",
          "status": "completed"
        },
        "tags": [],
        "id": "wUCL9q5PGFYJ"
      },
      "source": [
        "### Testing\n"
      ]
    },
    {
      "cell_type": "code",
      "execution_count": null,
      "metadata": {
        "execution": {
          "iopub.execute_input": "2021-01-06T15:49:58.258484Z",
          "iopub.status.busy": "2021-01-06T15:49:58.257866Z",
          "iopub.status.idle": "2021-01-06T15:49:59.291208Z",
          "shell.execute_reply": "2021-01-06T15:49:59.292026Z"
        },
        "papermill": {
          "duration": 1.250563,
          "end_time": "2021-01-06T15:49:59.292292",
          "exception": false,
          "start_time": "2021-01-06T15:49:58.041729",
          "status": "completed"
        },
        "tags": [],
        "id": "eH-tCenfGFYJ"
      },
      "outputs": [],
      "source": [
        "import numpy as np\n",
        "from tensorflow.keras.preprocessing import image\n",
        "test_image = image.load_img('../input/cotton-disease-dataset/Cotton Disease/test/fresh cotton plant/dsd (140)_iaip.jpg', target_size = (224,224))\n",
        "test_image = image.img_to_array(test_image)\n",
        "test_image=test_image/255\n",
        "test_image = np.expand_dims(test_image, axis = 0)\n",
        "result1 = model1.predict(test_image)"
      ]
    },
    {
      "cell_type": "markdown",
      "metadata": {
        "papermill": {
          "duration": 0.214245,
          "end_time": "2021-01-06T15:49:59.730847",
          "exception": false,
          "start_time": "2021-01-06T15:49:59.516602",
          "status": "completed"
        },
        "tags": [],
        "id": "tADyvLBUGFYJ"
      },
      "source": [
        "### Conclusion"
      ]
    },
    {
      "cell_type": "code",
      "execution_count": null,
      "metadata": {
        "execution": {
          "iopub.execute_input": "2021-01-06T15:50:00.186777Z",
          "iopub.status.busy": "2021-01-06T15:50:00.181370Z",
          "iopub.status.idle": "2021-01-06T15:50:00.712060Z",
          "shell.execute_reply": "2021-01-06T15:50:00.711521Z"
        },
        "papermill": {
          "duration": 0.758161,
          "end_time": "2021-01-06T15:50:00.712213",
          "exception": false,
          "start_time": "2021-01-06T15:49:59.954052",
          "status": "completed"
        },
        "tags": [],
        "id": "RfCg4VQKGFYJ",
        "outputId": "3a4bf2cd-8424-4e24-f57e-478c79a0ff6f"
      },
      "outputs": [
        {
          "data": {
            "image/png": "[encoded data removed]",
            "text/plain": [
              "<Figure size 432x288 with 1 Axes>"
            ]
          },
          "metadata": {
            "needs_background": "light"
          },
          "output_type": "display_data"
        },
        {
          "data": {
            "image/png": "[encoded data removed]",
            "text/plain": [
              "<Figure size 432x288 with 1 Axes>"
            ]
          },
          "metadata": {
            "needs_background": "light"
          },
          "output_type": "display_data"
        },
        {
          "data": {
            "text/plain": [
              "<Figure size 432x288 with 0 Axes>"
            ]
          },
          "metadata": {},
          "output_type": "display_data"
        }
      ],
      "source": [
        "# plot the loss\n",
        "import matplotlib.pyplot as plt\n",
        "plt.plot(r.history['loss'], label='train loss')\n",
        "plt.plot(r.history['val_loss'], label='val loss')\n",
        "plt.legend()\n",
        "plt.show()\n",
        "plt.savefig('LossVal_loss')\n",
        "\n",
        "# plot the accuracy\n",
        "plt.plot(r.history['accuracy'], label='train acc')\n",
        "plt.plot(r.history['val_accuracy'], label='val acc')\n",
        "plt.legend()\n",
        "plt.show()\n",
        "plt.savefig('AccVal_acc')"
      ]
    },
    {
      "cell_type": "code",
      "execution_count": null,
      "metadata": {
        "execution": {
          "iopub.execute_input": "2021-01-06T15:50:01.157134Z",
          "iopub.status.busy": "2021-01-06T15:50:01.156149Z",
          "iopub.status.idle": "2021-01-06T15:50:01.160145Z",
          "shell.execute_reply": "2021-01-06T15:50:01.159615Z"
        },
        "papermill": {
          "duration": 0.225126,
          "end_time": "2021-01-06T15:50:01.160256",
          "exception": false,
          "start_time": "2021-01-06T15:50:00.935130",
          "status": "completed"
        },
        "tags": [],
        "id": "j_Oj1U5pGFYK",
        "outputId": "b5c18c77-33ab-4db8-8406-8f3bbf997d53"
      },
      "outputs": [
        {
          "data": {
            "text/plain": [
              "array([[0.20252916, 0.09876883, 0.5913873 , 0.10731473]], dtype=float32)"
            ]
          },
          "execution_count": 34,
          "metadata": {},
          "output_type": "execute_result"
        }
      ],
      "source": [
        "result1"
      ]
    },
    {
      "cell_type": "code",
      "execution_count": null,
      "metadata": {
        "execution": {
          "iopub.execute_input": "2021-01-06T15:50:01.594492Z",
          "iopub.status.busy": "2021-01-06T15:50:01.593825Z",
          "iopub.status.idle": "2021-01-06T15:50:01.596721Z",
          "shell.execute_reply": "2021-01-06T15:50:01.596276Z"
        },
        "papermill": {
          "duration": 0.219136,
          "end_time": "2021-01-06T15:50:01.596819",
          "exception": false,
          "start_time": "2021-01-06T15:50:01.377683",
          "status": "completed"
        },
        "tags": [],
        "id": "dEOHJc6MGFYK"
      },
      "outputs": [],
      "source": [
        "result1 = result1.ravel()"
      ]
    },
    {
      "cell_type": "code",
      "execution_count": null,
      "metadata": {
        "execution": {
          "iopub.execute_input": "2021-01-06T15:50:02.054528Z",
          "iopub.status.busy": "2021-01-06T15:50:02.053529Z",
          "iopub.status.idle": "2021-01-06T15:50:02.056281Z",
          "shell.execute_reply": "2021-01-06T15:50:02.056734Z"
        },
        "papermill": {
          "duration": 0.244578,
          "end_time": "2021-01-06T15:50:02.056873",
          "exception": false,
          "start_time": "2021-01-06T15:50:01.812295",
          "status": "completed"
        },
        "tags": [],
        "id": "Xvt44Z6cGFYK"
      },
      "outputs": [],
      "source": [
        "result1=result1.tolist()"
      ]
    },
    {
      "cell_type": "code",
      "execution_count": null,
      "metadata": {
        "execution": {
          "iopub.execute_input": "2021-01-06T15:50:02.500493Z",
          "iopub.status.busy": "2021-01-06T15:50:02.499422Z",
          "iopub.status.idle": "2021-01-06T15:50:02.503125Z",
          "shell.execute_reply": "2021-01-06T15:50:02.503946Z"
        },
        "papermill": {
          "duration": 0.230345,
          "end_time": "2021-01-06T15:50:02.504172",
          "exception": false,
          "start_time": "2021-01-06T15:50:02.273827",
          "status": "completed"
        },
        "tags": [],
        "id": "va49MqPeGFYK",
        "outputId": "1f2c5066-cbe5-4a8e-944e-de718a422970"
      },
      "outputs": [
        {
          "data": {
            "text/plain": [
              "[0.2025291621685028,\n",
              " 0.09876883029937744,\n",
              " 0.5913872718811035,\n",
              " 0.10731472820043564]"
            ]
          },
          "execution_count": 37,
          "metadata": {},
          "output_type": "execute_result"
        }
      ],
      "source": [
        "result1"
      ]
    },
    {
      "cell_type": "code",
      "execution_count": null,
      "metadata": {
        "execution": {
          "iopub.execute_input": "2021-01-06T15:50:02.975488Z",
          "iopub.status.busy": "2021-01-06T15:50:02.974831Z",
          "iopub.status.idle": "2021-01-06T15:50:03.134478Z",
          "shell.execute_reply": "2021-01-06T15:50:03.132905Z"
        },
        "papermill": {
          "duration": 0.404317,
          "end_time": "2021-01-06T15:50:03.134605",
          "exception": false,
          "start_time": "2021-01-06T15:50:02.730288",
          "status": "completed"
        },
        "tags": [],
        "id": "G-rt6bJNGFYL"
      },
      "outputs": [],
      "source": [
        "a1= np.argmax(model1.predict(test_image),axis=1)"
      ]
    },
    {
      "cell_type": "code",
      "execution_count": null,
      "metadata": {
        "execution": {
          "iopub.execute_input": "2021-01-06T15:50:03.574394Z",
          "iopub.status.busy": "2021-01-06T15:50:03.573670Z",
          "iopub.status.idle": "2021-01-06T15:50:03.578270Z",
          "shell.execute_reply": "2021-01-06T15:50:03.577697Z"
        },
        "papermill": {
          "duration": 0.226786,
          "end_time": "2021-01-06T15:50:03.578378",
          "exception": false,
          "start_time": "2021-01-06T15:50:03.351592",
          "status": "completed"
        },
        "tags": [],
        "id": "-Cggv6e-GFYL",
        "outputId": "fd320375-430a-45fd-c72e-8d4865933461"
      },
      "outputs": [
        {
          "data": {
            "text/plain": [
              "array([2])"
            ]
          },
          "execution_count": 39,
          "metadata": {},
          "output_type": "execute_result"
        }
      ],
      "source": [
        "a1"
      ]
    },
    {
      "cell_type": "markdown",
      "metadata": {
        "papermill": {
          "duration": 0.223757,
          "end_time": "2021-01-06T15:50:04.020290",
          "exception": false,
          "start_time": "2021-01-06T15:50:03.796533",
          "status": "completed"
        },
        "tags": [],
        "id": "SKZGYgW_GFYL"
      },
      "source": [
        "### Final conclusion"
      ]
    },
    {
      "cell_type": "code",
      "execution_count": null,
      "metadata": {
        "execution": {
          "iopub.execute_input": "2021-01-06T15:50:04.466332Z",
          "iopub.status.busy": "2021-01-06T15:50:04.465561Z",
          "iopub.status.idle": "2021-01-06T15:50:04.469630Z",
          "shell.execute_reply": "2021-01-06T15:50:04.468787Z"
        },
        "papermill": {
          "duration": 0.230539,
          "end_time": "2021-01-06T15:50:04.469747",
          "exception": false,
          "start_time": "2021-01-06T15:50:04.239208",
          "status": "completed"
        },
        "tags": [],
        "id": "9tCF3txCGFYL",
        "outputId": "87dc86e4-2d21-4a99-ff42-8dcf5c4a5109"
      },
      "outputs": [
        {
          "name": "stdout",
          "output_type": "stream",
          "text": [
            "Largest element present in given array: 0.5913872718811035 And it belongs to fresh_leaf class.\n"
          ]
        }
      ],
      "source": [
        "classes=[\"diseased_leaf\",\"diseased_plant\",\"fresh_leaf\",\"fresh_plant\"]\n",
        "max =result1[0];\n",
        "i = 0;\n",
        "\n",
        "#Loop through the array\n",
        "for index, value in enumerate(result1):\n",
        "    #Compare elements of array with max\n",
        "    if(value > max):\n",
        "        max = value;\n",
        "        i = index\n",
        "print(\"Largest element present in given array: \" + str(max) +\" And it belongs to \" +str(classes[i]) +\" class.\");"
      ]
    },
    {
      "cell_type": "code",
      "source": [
        "filename = \"model.h5\"\n",
        "model.save(filename)"
      ],
      "metadata": {
        "colab": {
          "base_uri": "https://localhost:8080/"
        },
        "id": "udxaGdFDNQ49",
        "outputId": "724206eb-cbcb-4fdb-f512-6fe328a77f66"
      },
      "execution_count": 12,
      "outputs": [
        {
          "output_type": "stream",
          "name": "stderr",
          "text": [
            "/usr/local/lib/python3.10/dist-packages/keras/src/engine/training.py:3103: UserWarning: You are saving your model as an HDF5 file via `model.save()`. This file format is considered legacy. We recommend using instead the native Keras format, e.g. `model.save('my_model.keras')`.\n",
            "  saving_api.save_model(\n"
          ]
        }
      ]
    },
    {
      "cell_type": "code",
      "source": [
        "from google.colab import files\n",
        "\n",
        "files.download('model.h5')\n"
      ],
      "metadata": {
        "colab": {
          "base_uri": "https://localhost:8080/",
          "height": 17
        },
        "id": "QtFyDrswOGec",
        "outputId": "80e95a8c-d83c-4840-ce65-a5abc23d37a3"
      },
      "execution_count": 14,
      "outputs": [
        {
          "output_type": "display_data",
          "data": {
            "text/plain": [
              "<IPython.core.display.Javascript object>"
            ],
            "application/javascript": [
              "\n",
              "    async function download(id, filename, size) {\n",
              "      if (!google.colab.kernel.accessAllowed) {\n",
              "        return;\n",
              "      }\n",
              "      const div = document.createElement('div');\n",
              "      const label = document.createElement('label');\n",
              "      label.textContent = `Downloading \"${filename}\": `;\n",
              "      div.appendChild(label);\n",
              "      const progress = document.createElement('progress');\n",
              "      progress.max = size;\n",
              "      div.appendChild(progress);\n",
              "      document.body.appendChild(div);\n",
              "\n",
              "      const buffers = [];\n",
              "      let downloaded = 0;\n",
              "\n",
              "      const channel = await google.colab.kernel.comms.open(id);\n",
              "      // Send a message to notify the kernel that we're ready.\n",
              "      channel.send({})\n",
              "\n",
              "      for await (const message of channel.messages) {\n",
              "        // Send a message to notify the kernel that we're ready.\n",
              "        channel.send({})\n",
              "        if (message.buffers) {\n",
              "          for (const buffer of message.buffers) {\n",
              "            buffers.push(buffer);\n",
              "            downloaded += buffer.byteLength;\n",
              "            progress.value = downloaded;\n",
              "          }\n",
              "        }\n",
              "      }\n",
              "      const blob = new Blob(buffers, {type: 'application/binary'});\n",
              "      const a = document.createElement('a');\n",
              "      a.href = window.URL.createObjectURL(blob);\n",
              "      a.download = filename;\n",
              "      div.appendChild(a);\n",
              "      a.click();\n",
              "      div.remove();\n",
              "    }\n",
              "  "
            ]
          },
          "metadata": {}
        },
        {
          "output_type": "display_data",
          "data": {
            "text/plain": [
              "<IPython.core.display.Javascript object>"
            ],
            "application/javascript": [
              "download(\"download_549a6cbb-e673-4966-9602-e6a9c0133909\", \"model.h5\", 58936712)"
            ]
          },
          "metadata": {}
        }
      ]
    }
  ],
  "metadata": {
    "kernelspec": {
      "display_name": "Python 3",
      "language": "python",
      "name": "python3"
    },
    "language_info": {
      "codemirror_mode": {
        "name": "ipython",
        "version": 3
      },
      "file_extension": ".py",
      "mimetype": "text/x-python",
      "name": "python",
      "nbconvert_exporter": "python",
      "pygments_lexer": "ipython3",
      "version": "3.7.6"
    },
    "papermill": {
      "duration": 3213.555256,
      "end_time": "2021-01-06T15:50:05.235307",
      "environment_variables": {},
      "exception": null,
      "input_path": "__notebook__.ipynb",
      "output_path": "__notebook__.ipynb",
      "parameters": {},
      "start_time": "2021-01-06T14:56:31.680051",
      "version": "2.1.0"
    },
    "colab": {
      "provenance": []
    }
  },
  "nbformat": 4,
  "nbformat_minor": 0
}